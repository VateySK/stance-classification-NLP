{
 "cells": [
  {
   "cell_type": "markdown",
   "id": "a7da6108",
   "metadata": {},
   "source": [
    "Please note that the code in this notebook is extracted from this GitHub https://github.com/kothiyayogesh/medium-article-code/blob/master/How%20I%20dealt%20with%20Imbalanced%20text%20dataset/data_augmentation_using_language_translation.ipynb and modified to fit with the dataset and purpose of the assignment."
   ]
  },
  {
   "cell_type": "code",
   "execution_count": 1,
   "id": "51bd10a8",
   "metadata": {
    "scrolled": true
   },
   "outputs": [
    {
     "name": "stdout",
     "output_type": "stream",
     "text": [
      "Requirement already satisfied: pandas in c:\\users\\minea\\onedrive - rmit university\\year 2 semester 2\\cosc2779-deep learning\\assignment 2\\venv\\lib\\site-packages (1.3.3)\n",
      "Requirement already satisfied: pytz>=2017.3 in c:\\users\\minea\\onedrive - rmit university\\year 2 semester 2\\cosc2779-deep learning\\assignment 2\\venv\\lib\\site-packages (from pandas) (2021.3)\n",
      "Requirement already satisfied: python-dateutil>=2.7.3 in c:\\users\\minea\\onedrive - rmit university\\year 2 semester 2\\cosc2779-deep learning\\assignment 2\\venv\\lib\\site-packages (from pandas) (2.8.2)\n",
      "Requirement already satisfied: numpy>=1.17.3 in c:\\users\\minea\\onedrive - rmit university\\year 2 semester 2\\cosc2779-deep learning\\assignment 2\\venv\\lib\\site-packages (from pandas) (1.21.2)\n",
      "Requirement already satisfied: six>=1.5 in c:\\users\\minea\\onedrive - rmit university\\year 2 semester 2\\cosc2779-deep learning\\assignment 2\\venv\\lib\\site-packages (from python-dateutil>=2.7.3->pandas) (1.16.0)\n"
     ]
    }
   ],
   "source": [
    "!pip install pandas"
   ]
  },
  {
   "cell_type": "code",
   "execution_count": 2,
   "id": "9340ff43",
   "metadata": {},
   "outputs": [
    {
     "name": "stdout",
     "output_type": "stream",
     "text": [
      "Requirement already satisfied: nltk in c:\\users\\minea\\onedrive - rmit university\\year 2 semester 2\\cosc2779-deep learning\\assignment 2\\venv\\lib\\site-packages (3.6.5)\n",
      "Requirement already satisfied: joblib in c:\\users\\minea\\onedrive - rmit university\\year 2 semester 2\\cosc2779-deep learning\\assignment 2\\venv\\lib\\site-packages (from nltk) (1.1.0)\n",
      "Requirement already satisfied: tqdm in c:\\users\\minea\\onedrive - rmit university\\year 2 semester 2\\cosc2779-deep learning\\assignment 2\\venv\\lib\\site-packages (from nltk) (4.62.3)\n",
      "Requirement already satisfied: click in c:\\users\\minea\\onedrive - rmit university\\year 2 semester 2\\cosc2779-deep learning\\assignment 2\\venv\\lib\\site-packages (from nltk) (8.0.3)\n",
      "Requirement already satisfied: regex>=2021.8.3 in c:\\users\\minea\\onedrive - rmit university\\year 2 semester 2\\cosc2779-deep learning\\assignment 2\\venv\\lib\\site-packages (from nltk) (2021.10.8)\n",
      "Requirement already satisfied: colorama in c:\\users\\minea\\onedrive - rmit university\\year 2 semester 2\\cosc2779-deep learning\\assignment 2\\venv\\lib\\site-packages (from click->nltk) (0.4.4)\n"
     ]
    }
   ],
   "source": [
    "!pip install nltk"
   ]
  },
  {
   "cell_type": "code",
   "execution_count": 3,
   "id": "51bd4b41",
   "metadata": {},
   "outputs": [],
   "source": [
    "import pandas as pd\n",
    "import nltk"
   ]
  },
  {
   "cell_type": "code",
   "execution_count": 4,
   "id": "142ff5a0",
   "metadata": {},
   "outputs": [],
   "source": [
    "file_name = 'Preprocessed_Twitter_data.csv'"
   ]
  },
  {
   "cell_type": "code",
   "execution_count": 5,
   "id": "66d4b6c4",
   "metadata": {},
   "outputs": [],
   "source": [
    "df = pd.read_csv(file_name)"
   ]
  },
  {
   "cell_type": "code",
   "execution_count": 6,
   "id": "e1693192",
   "metadata": {},
   "outputs": [
    {
     "data": {
      "text/html": [
       "<div>\n",
       "<style scoped>\n",
       "    .dataframe tbody tr th:only-of-type {\n",
       "        vertical-align: middle;\n",
       "    }\n",
       "\n",
       "    .dataframe tbody tr th {\n",
       "        vertical-align: top;\n",
       "    }\n",
       "\n",
       "    .dataframe thead th {\n",
       "        text-align: right;\n",
       "    }\n",
       "</style>\n",
       "<table border=\"1\" class=\"dataframe\">\n",
       "  <thead>\n",
       "    <tr style=\"text-align: right;\">\n",
       "      <th></th>\n",
       "      <th>reply</th>\n",
       "      <th>class</th>\n",
       "      <th>source</th>\n",
       "    </tr>\n",
       "  </thead>\n",
       "  <tbody>\n",
       "    <tr>\n",
       "      <th>0</th>\n",
       "      <td>@thatjohn Have they named the pilot?</td>\n",
       "      <td>query</td>\n",
       "      <td>#4U9525: Robin names Andreas Lubitz as the cop...</td>\n",
       "    </tr>\n",
       "    <tr>\n",
       "      <th>1</th>\n",
       "      <td>@thatjohn @mschenk</td>\n",
       "      <td>comment</td>\n",
       "      <td>#4U9525: Robin names Andreas Lubitz as the cop...</td>\n",
       "    </tr>\n",
       "    <tr>\n",
       "      <th>2</th>\n",
       "      <td>@tinkalee_12 @USATODAY @khjelmgaard #F4Phantom...</td>\n",
       "      <td>comment</td>\n",
       "      <td>RT @khjelmgaard: German media reporting #Andre...</td>\n",
       "    </tr>\n",
       "    <tr>\n",
       "      <th>3</th>\n",
       "      <td>@USATODAY @khjelmgaard ers a link to prove @An...</td>\n",
       "      <td>comment</td>\n",
       "      <td>RT @khjelmgaard: German media reporting #Andre...</td>\n",
       "    </tr>\n",
       "    <tr>\n",
       "      <th>4</th>\n",
       "      <td>@USATODAY @khjelmgaard Sure #GermanWings CoPil...</td>\n",
       "      <td>comment</td>\n",
       "      <td>RT @khjelmgaard: German media reporting #Andre...</td>\n",
       "    </tr>\n",
       "  </tbody>\n",
       "</table>\n",
       "</div>"
      ],
      "text/plain": [
       "                                               reply    class  \\\n",
       "0               @thatjohn Have they named the pilot?    query   \n",
       "1                                 @thatjohn @mschenk  comment   \n",
       "2  @tinkalee_12 @USATODAY @khjelmgaard #F4Phantom...  comment   \n",
       "3  @USATODAY @khjelmgaard ers a link to prove @An...  comment   \n",
       "4  @USATODAY @khjelmgaard Sure #GermanWings CoPil...  comment   \n",
       "\n",
       "                                              source  \n",
       "0  #4U9525: Robin names Andreas Lubitz as the cop...  \n",
       "1  #4U9525: Robin names Andreas Lubitz as the cop...  \n",
       "2  RT @khjelmgaard: German media reporting #Andre...  \n",
       "3  RT @khjelmgaard: German media reporting #Andre...  \n",
       "4  RT @khjelmgaard: German media reporting #Andre...  "
      ]
     },
     "execution_count": 6,
     "metadata": {},
     "output_type": "execute_result"
    }
   ],
   "source": [
    "df.head()"
   ]
  },
  {
   "cell_type": "code",
   "execution_count": 7,
   "id": "3a46132e",
   "metadata": {},
   "outputs": [],
   "source": [
    "## Function for augmenting data using langauge translation\n",
    "## Could not found free service for langauge translation, Use paid service like Azure, Google translator etc\n",
    "\n",
    "from textblob import TextBlob\n",
    "from textblob.translate import NotTranslated\n",
    "import random\n",
    "sr = random.SystemRandom()\n",
    "\n",
    "language = [\"es\", \"de\", \"fr\", \"ar\", \"te\", \"hi\", \"ja\", \"fa\", \"sq\", \"bg\", \"nl\", \"gu\", \"ig\", \"kk\", \"mt\", \"ps\"]\n",
    "\n",
    "def data_augmentation(message, language, aug_range=1):\n",
    "    augmented_messages = []\n",
    "    if hasattr(message, \"decode\"):\n",
    "        message = message.decode(\"utf-8\")\n",
    "\n",
    "    for j in range(0,aug_range) :\n",
    "        new_message = \"\"\n",
    "        text = TextBlob(message)\n",
    "        try:\n",
    "            text = text.translate(to=sr.choice(language))   ## Converting to random langauge for meaningful variation\n",
    "            text = text.translate(to=\"en\")\n",
    "        except NotTranslated:\n",
    "            pass\n",
    "        augmented_messages.append(str(text))\n",
    "\n",
    "    return augmented_messages"
   ]
  },
  {
   "cell_type": "code",
   "execution_count": 8,
   "id": "95107435",
   "metadata": {},
   "outputs": [],
   "source": [
    "## Dictionary for intent count\n",
    "## Intent is column name\n",
    "class_count = df['class'].value_counts().to_dict()"
   ]
  },
  {
   "cell_type": "code",
   "execution_count": 9,
   "id": "b1ff9989",
   "metadata": {},
   "outputs": [],
   "source": [
    "## Get max intent count to match other minority classes through data augmentation\n",
    "import operator\n",
    "max_class_count = max(class_count.items(), key=operator.itemgetter(1))[1]"
   ]
  },
  {
   "cell_type": "code",
   "execution_count": 10,
   "id": "d8589a7d",
   "metadata": {},
   "outputs": [
    {
     "name": "stderr",
     "output_type": "stream",
     "text": [
      "792it [34:27,  2.61s/it]\n",
      "520it [30:10,  3.48s/it]\n",
      "496it [29:57,  3.62s/it]\n"
     ]
    }
   ],
   "source": [
    "## Loop to interate all messages\n",
    "import numpy as np\n",
    "import math\n",
    "import tqdm\n",
    "newdf = pd.DataFrame()\n",
    "for reply_class, count in class_count.items() :\n",
    "    count_diff = max_class_count - count    ## Difference to fill\n",
    "    multiplication_count = math.ceil((count_diff)/count)  ## Multiplying a minority classes for multiplication_count times\n",
    "    if (multiplication_count) :\n",
    "        old_message_df = pd.DataFrame()\n",
    "        new_message_df = pd.DataFrame()\n",
    "        for source, message in tqdm.tqdm(zip(df[df[\"class\"] == reply_class][\"source\"], df[df[\"class\"] == reply_class][\"reply\"])):\n",
    "            ## Extracting existing minority class batch\n",
    "            dummy1 = pd.DataFrame({\"source\":[source], \"reply\":[message]})\n",
    "            dummy1[\"class\"] = reply_class\n",
    "            old_message_df = old_message_df.append(dummy1)\n",
    "            \n",
    "            ## Creating new augmented batch from existing minority class\n",
    "            new_messages = data_augmentation(message, language, multiplication_count)\n",
    "            dummy2 = pd.DataFrame({\"source\":[source]*len(new_messages), \"reply\":new_messages})\n",
    "            dummy2[\"class\"] = reply_class\n",
    "            new_message_df = new_message_df.append(dummy2)\n",
    "        \n",
    "        ## Select random data points from augmented data\n",
    "        new_message_df=new_message_df.take(np.random.permutation(len(new_message_df))[:count_diff])\n",
    "        \n",
    "        ## Merge existing and augmented data points\n",
    "        newdf = newdf.append([old_message_df,new_message_df])\n",
    "\n",
    "    else :\n",
    "        newdf = newdf.append(df[df[\"class\"] == reply_class])"
   ]
  },
  {
   "cell_type": "code",
   "execution_count": 11,
   "id": "20bf3d0a",
   "metadata": {},
   "outputs": [
    {
     "data": {
      "text/plain": [
       "comment    4445\n",
       "support    4445\n",
       "query      4445\n",
       "deny       4445\n",
       "Name: class, dtype: int64"
      ]
     },
     "execution_count": 11,
     "metadata": {},
     "output_type": "execute_result"
    }
   ],
   "source": [
    "## Print count of all new data points\n",
    "newdf['class'].value_counts()"
   ]
  },
  {
   "cell_type": "code",
   "execution_count": 12,
   "id": "ae1fd857",
   "metadata": {},
   "outputs": [
    {
     "data": {
      "text/html": [
       "<div>\n",
       "<style scoped>\n",
       "    .dataframe tbody tr th:only-of-type {\n",
       "        vertical-align: middle;\n",
       "    }\n",
       "\n",
       "    .dataframe tbody tr th {\n",
       "        vertical-align: top;\n",
       "    }\n",
       "\n",
       "    .dataframe thead th {\n",
       "        text-align: right;\n",
       "    }\n",
       "</style>\n",
       "<table border=\"1\" class=\"dataframe\">\n",
       "  <thead>\n",
       "    <tr style=\"text-align: right;\">\n",
       "      <th></th>\n",
       "      <th>reply</th>\n",
       "      <th>class</th>\n",
       "      <th>source</th>\n",
       "    </tr>\n",
       "  </thead>\n",
       "  <tbody>\n",
       "    <tr>\n",
       "      <th>1</th>\n",
       "      <td>@thatjohn @mschenk</td>\n",
       "      <td>comment</td>\n",
       "      <td>#4U9525: Robin names Andreas Lubitz as the cop...</td>\n",
       "    </tr>\n",
       "    <tr>\n",
       "      <th>2</th>\n",
       "      <td>@tinkalee_12 @USATODAY @khjelmgaard #F4Phantom...</td>\n",
       "      <td>comment</td>\n",
       "      <td>RT @khjelmgaard: German media reporting #Andre...</td>\n",
       "    </tr>\n",
       "    <tr>\n",
       "      <th>3</th>\n",
       "      <td>@USATODAY @khjelmgaard ers a link to prove @An...</td>\n",
       "      <td>comment</td>\n",
       "      <td>RT @khjelmgaard: German media reporting #Andre...</td>\n",
       "    </tr>\n",
       "    <tr>\n",
       "      <th>4</th>\n",
       "      <td>@USATODAY @khjelmgaard Sure #GermanWings CoPil...</td>\n",
       "      <td>comment</td>\n",
       "      <td>RT @khjelmgaard: German media reporting #Andre...</td>\n",
       "    </tr>\n",
       "    <tr>\n",
       "      <th>5</th>\n",
       "      <td>@USATODAY @khjelmgaard #AndreasLubitz #GermanW...</td>\n",
       "      <td>comment</td>\n",
       "      <td>RT @khjelmgaard: German media reporting #Andre...</td>\n",
       "    </tr>\n",
       "  </tbody>\n",
       "</table>\n",
       "</div>"
      ],
      "text/plain": [
       "                                               reply    class  \\\n",
       "1                                 @thatjohn @mschenk  comment   \n",
       "2  @tinkalee_12 @USATODAY @khjelmgaard #F4Phantom...  comment   \n",
       "3  @USATODAY @khjelmgaard ers a link to prove @An...  comment   \n",
       "4  @USATODAY @khjelmgaard Sure #GermanWings CoPil...  comment   \n",
       "5  @USATODAY @khjelmgaard #AndreasLubitz #GermanW...  comment   \n",
       "\n",
       "                                              source  \n",
       "1  #4U9525: Robin names Andreas Lubitz as the cop...  \n",
       "2  RT @khjelmgaard: German media reporting #Andre...  \n",
       "3  RT @khjelmgaard: German media reporting #Andre...  \n",
       "4  RT @khjelmgaard: German media reporting #Andre...  \n",
       "5  RT @khjelmgaard: German media reporting #Andre...  "
      ]
     },
     "execution_count": 12,
     "metadata": {},
     "output_type": "execute_result"
    }
   ],
   "source": [
    "newdf.head()"
   ]
  },
  {
   "cell_type": "code",
   "execution_count": 15,
   "id": "69e857f7",
   "metadata": {},
   "outputs": [],
   "source": [
    "newdf.to_csv(\"Augmented_Twitter_data.csv\", index=False)"
   ]
  },
  {
   "cell_type": "markdown",
   "id": "057db0f2",
   "metadata": {},
   "source": [
    "Reference:\n",
    "\n",
    "Kothiya, Y., 2019. medium-article-code/data_augmentation_using_language_translation.ipynb at master · kothiyayogesh/medium-article-code. [online] GitHub. Available at: <https://github.com/kothiyayogesh/medium-article-code/blob/master/How%20I%20dealt%20with%20Imbalanced%20text%20dataset/data_augmentation_using_language_translation.ipynb> [Accessed 15 October 2021]."
   ]
  }
 ],
 "metadata": {
  "kernelspec": {
   "display_name": "Python 3",
   "language": "python",
   "name": "python3"
  },
  "language_info": {
   "codemirror_mode": {
    "name": "ipython",
    "version": 3
   },
   "file_extension": ".py",
   "mimetype": "text/x-python",
   "name": "python",
   "nbconvert_exporter": "python",
   "pygments_lexer": "ipython3",
   "version": "3.8.8"
  }
 },
 "nbformat": 4,
 "nbformat_minor": 5
}
